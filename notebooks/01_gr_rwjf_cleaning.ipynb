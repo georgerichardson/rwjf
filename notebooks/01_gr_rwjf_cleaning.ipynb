{
 "cells": [
  {
   "cell_type": "code",
   "execution_count": 1,
   "metadata": {},
   "outputs": [],
   "source": [
    "import pandas as pd\n",
    "import numpy as np\n",
    "\n",
    "import spacy"
   ]
  },
  {
   "cell_type": "code",
   "execution_count": 2,
   "metadata": {},
   "outputs": [],
   "source": [
    "rwjf_grants = pd.read_json('../data/raw/rwjf_grants.json')"
   ]
  },
  {
   "cell_type": "code",
   "execution_count": 8,
   "metadata": {},
   "outputs": [
    {
     "data": {
      "text/html": [
       "<div>\n",
       "<style scoped>\n",
       "    .dataframe tbody tr th:only-of-type {\n",
       "        vertical-align: middle;\n",
       "    }\n",
       "\n",
       "    .dataframe tbody tr th {\n",
       "        vertical-align: top;\n",
       "    }\n",
       "\n",
       "    .dataframe thead th {\n",
       "        text-align: right;\n",
       "    }\n",
       "</style>\n",
       "<table border=\"1\" class=\"dataframe\">\n",
       "  <thead>\n",
       "    <tr style=\"text-align: right;\">\n",
       "      <th></th>\n",
       "      <th>about</th>\n",
       "      <th>address</th>\n",
       "      <th>amount_awarded</th>\n",
       "      <th>awarded</th>\n",
       "      <th>awarded_on</th>\n",
       "      <th>contacts</th>\n",
       "      <th>grant_number</th>\n",
       "      <th>location</th>\n",
       "      <th>organization</th>\n",
       "      <th>page</th>\n",
       "      <th>timeframe</th>\n",
       "      <th>title</th>\n",
       "      <th>topics</th>\n",
       "      <th>website</th>\n",
       "      <th>year</th>\n",
       "    </tr>\n",
       "  </thead>\n",
       "  <tbody>\n",
       "    <tr>\n",
       "      <th>0</th>\n",
       "      <td>The Robert Wood Johnson Clinical Scholars Prog...</td>\n",
       "      <td>University of North Carolina at Chapel Hill Sc...</td>\n",
       "      <td>$865,484</td>\n",
       "      <td>$865,484</td>\n",
       "      <td>3/25/2009</td>\n",
       "      <td>Desmond Kimo Runyan</td>\n",
       "      <td>48349</td>\n",
       "      <td>Chapel Hill, NC</td>\n",
       "      <td>University of North Carolina at Chapel Hill Sc...</td>\n",
       "      <td>1344</td>\n",
       "      <td>5/1/2009 - 4/30/2010</td>\n",
       "      <td>Technical assistance and direction for the Rob...</td>\n",
       "      <td>Health Disparities\\nHealth Leadership Development</td>\n",
       "      <td>http://www.med.unc.edu/contact</td>\n",
       "      <td>2009</td>\n",
       "    </tr>\n",
       "    <tr>\n",
       "      <th>1</th>\n",
       "      <td>The Robert Wood Johnson Clinical Scholars Prog...</td>\n",
       "      <td>University of North Carolina at Chapel Hill Sc...</td>\n",
       "      <td>$801,175</td>\n",
       "      <td>$801,175</td>\n",
       "      <td>3/8/2010</td>\n",
       "      <td>Desmond Kimo Runyan</td>\n",
       "      <td>48350</td>\n",
       "      <td>Chapel Hill, NC</td>\n",
       "      <td>University of North Carolina at Chapel Hill Sc...</td>\n",
       "      <td>1201</td>\n",
       "      <td>5/1/2010 - 4/30/2011</td>\n",
       "      <td>Technical assistance and direction for the Rob...</td>\n",
       "      <td>Health Disparities\\nHealth Leadership Development</td>\n",
       "      <td>http://www.med.unc.edu/contact</td>\n",
       "      <td>2010</td>\n",
       "    </tr>\n",
       "    <tr>\n",
       "      <th>2</th>\n",
       "      <td>This grant will continue long-standing support...</td>\n",
       "      <td>National Public Radio Inc.\\n1111 North Capital...</td>\n",
       "      <td>$2,800,000</td>\n",
       "      <td>$2,800,000</td>\n",
       "      <td>11/13/2008</td>\n",
       "      <td>Anne Gudenkauf</td>\n",
       "      <td>51491</td>\n",
       "      <td>Washington, DC</td>\n",
       "      <td>National Public Radio Inc.</td>\n",
       "      <td>1391</td>\n",
       "      <td>11/15/2008 - 11/14/2011</td>\n",
       "      <td>Health and health care reporting by National P...</td>\n",
       "      <td>Public and Community Health\\nHealth Care Quality</td>\n",
       "      <td>http://www.npr.org/</td>\n",
       "      <td>2008</td>\n",
       "    </tr>\n",
       "    <tr>\n",
       "      <th>3</th>\n",
       "      <td>This supplemental grant supports the nonpartis...</td>\n",
       "      <td>George Washington University\\n2121 Eye Street,...</td>\n",
       "      <td>$2,671,103</td>\n",
       "      <td>$2,671,103</td>\n",
       "      <td>7/30/2008</td>\n",
       "      <td>Judith Miller Jones</td>\n",
       "      <td>51492</td>\n",
       "      <td>Washington, DC</td>\n",
       "      <td>George Washington University</td>\n",
       "      <td>1459</td>\n",
       "      <td>9/1/2008 - 11/30/2011</td>\n",
       "      <td>National Health Policy Forum</td>\n",
       "      <td>None</td>\n",
       "      <td>http://www.gwu.edu/</td>\n",
       "      <td>2008</td>\n",
       "    </tr>\n",
       "    <tr>\n",
       "      <th>4</th>\n",
       "      <td>The Foundation's Summer Medical and Dental Edu...</td>\n",
       "      <td>Association of American Medical Colleges\\n655 ...</td>\n",
       "      <td>$1,252,432</td>\n",
       "      <td>$1,252,432</td>\n",
       "      <td>8/7/2008</td>\n",
       "      <td>Charles Terrell\\nRichard W. Valachovic</td>\n",
       "      <td>53039</td>\n",
       "      <td>Washington, DC</td>\n",
       "      <td>Association of American Medical Colleges</td>\n",
       "      <td>1444</td>\n",
       "      <td>9/1/2008 - 8/31/2009</td>\n",
       "      <td>Technical assistance and direction for RWJF's ...</td>\n",
       "      <td>Social Determinants of Health\\nHealth Leadersh...</td>\n",
       "      <td>http://www.aamc.org</td>\n",
       "      <td>2008</td>\n",
       "    </tr>\n",
       "  </tbody>\n",
       "</table>\n",
       "</div>"
      ],
      "text/plain": [
       "                                               about  \\\n",
       "0  The Robert Wood Johnson Clinical Scholars Prog...   \n",
       "1  The Robert Wood Johnson Clinical Scholars Prog...   \n",
       "2  This grant will continue long-standing support...   \n",
       "3  This supplemental grant supports the nonpartis...   \n",
       "4  The Foundation's Summer Medical and Dental Edu...   \n",
       "\n",
       "                                             address amount_awarded  \\\n",
       "0  University of North Carolina at Chapel Hill Sc...       $865,484   \n",
       "1  University of North Carolina at Chapel Hill Sc...       $801,175   \n",
       "2  National Public Radio Inc.\\n1111 North Capital...     $2,800,000   \n",
       "3  George Washington University\\n2121 Eye Street,...     $2,671,103   \n",
       "4  Association of American Medical Colleges\\n655 ...     $1,252,432   \n",
       "\n",
       "      awarded  awarded_on                                contacts  \\\n",
       "0    $865,484   3/25/2009                     Desmond Kimo Runyan   \n",
       "1    $801,175    3/8/2010                     Desmond Kimo Runyan   \n",
       "2  $2,800,000  11/13/2008                          Anne Gudenkauf   \n",
       "3  $2,671,103   7/30/2008                     Judith Miller Jones   \n",
       "4  $1,252,432    8/7/2008  Charles Terrell\\nRichard W. Valachovic   \n",
       "\n",
       "   grant_number         location  \\\n",
       "0         48349  Chapel Hill, NC   \n",
       "1         48350  Chapel Hill, NC   \n",
       "2         51491   Washington, DC   \n",
       "3         51492   Washington, DC   \n",
       "4         53039   Washington, DC   \n",
       "\n",
       "                                        organization  page  \\\n",
       "0  University of North Carolina at Chapel Hill Sc...  1344   \n",
       "1  University of North Carolina at Chapel Hill Sc...  1201   \n",
       "2                         National Public Radio Inc.  1391   \n",
       "3                       George Washington University  1459   \n",
       "4           Association of American Medical Colleges  1444   \n",
       "\n",
       "                 timeframe                                              title  \\\n",
       "0     5/1/2009 - 4/30/2010  Technical assistance and direction for the Rob...   \n",
       "1     5/1/2010 - 4/30/2011  Technical assistance and direction for the Rob...   \n",
       "2  11/15/2008 - 11/14/2011  Health and health care reporting by National P...   \n",
       "3    9/1/2008 - 11/30/2011                       National Health Policy Forum   \n",
       "4     9/1/2008 - 8/31/2009  Technical assistance and direction for RWJF's ...   \n",
       "\n",
       "                                              topics  \\\n",
       "0  Health Disparities\\nHealth Leadership Development   \n",
       "1  Health Disparities\\nHealth Leadership Development   \n",
       "2   Public and Community Health\\nHealth Care Quality   \n",
       "3                                               None   \n",
       "4  Social Determinants of Health\\nHealth Leadersh...   \n",
       "\n",
       "                          website  year  \n",
       "0  http://www.med.unc.edu/contact  2009  \n",
       "1  http://www.med.unc.edu/contact  2010  \n",
       "2             http://www.npr.org/  2008  \n",
       "3             http://www.gwu.edu/  2008  \n",
       "4             http://www.aamc.org  2008  "
      ]
     },
     "execution_count": 8,
     "metadata": {},
     "output_type": "execute_result"
    }
   ],
   "source": [
    "rwjf_grants.head()"
   ]
  },
  {
   "cell_type": "code",
   "execution_count": 5,
   "metadata": {},
   "outputs": [],
   "source": [
    "nlp = spacy.load('en_core_web_sm')"
   ]
  },
  {
   "cell_type": "code",
   "execution_count": 6,
   "metadata": {},
   "outputs": [],
   "source": [
    "with open('../data/external/en_ranknl_long.txt', 'r') as f:\n",
    "    text = f.read()\n",
    "stop_words = text.split('\\n')"
   ]
  },
  {
   "cell_type": "code",
   "execution_count": 43,
   "metadata": {},
   "outputs": [
    {
     "data": {
      "text/plain": [
       "True"
      ]
     },
     "execution_count": 43,
     "metadata": {},
     "output_type": "execute_result"
    }
   ],
   "source": [
    "'this' in stop_words"
   ]
  },
  {
   "cell_type": "code",
   "execution_count": 49,
   "metadata": {},
   "outputs": [],
   "source": [
    "stop_words.append(\"\\'s\")"
   ]
  },
  {
   "cell_type": "code",
   "execution_count": 7,
   "metadata": {},
   "outputs": [],
   "source": [
    "for stop in stop_words:\n",
    "    nlp.vocab[stop].is_stop = True"
   ]
  },
  {
   "cell_type": "code",
   "execution_count": 9,
   "metadata": {},
   "outputs": [],
   "source": [
    "descriptions = rwjf_grants['about']"
   ]
  },
  {
   "cell_type": "code",
   "execution_count": 28,
   "metadata": {},
   "outputs": [],
   "source": [
    "docs = []\n",
    "\n",
    "for description in descriptions:\n",
    "    try:\n",
    "        d = nlp(description)\n",
    "    except:\n",
    "        d = nlp('')\n",
    "    docs.append(d)"
   ]
  },
  {
   "cell_type": "code",
   "execution_count": 32,
   "metadata": {},
   "outputs": [],
   "source": [
    "t = docs[0][0]"
   ]
  },
  {
   "cell_type": "code",
   "execution_count": 50,
   "metadata": {},
   "outputs": [],
   "source": [
    "tokenized_docs = []\n",
    "\n",
    "for d in docs:\n",
    "    tokens = []\n",
    "    for t in d:\n",
    "        if t.is_punct:\n",
    "            continue\n",
    "        if t.is_stop:\n",
    "            continue\n",
    "        if t.is_bracket:\n",
    "            continue\n",
    "        if t.is_quote:\n",
    "            continue\n",
    "        if t.like_num:\n",
    "            continue\n",
    "        if t.is_digit:\n",
    "            continue\n",
    "        if t.like_url:\n",
    "            continue\n",
    "        if t.like_email:\n",
    "            continue\n",
    "        if t.is_space:\n",
    "            continue\n",
    "        if t.lower_ in stop_words:\n",
    "            continue\n",
    "        tokens.append(t.lower_)\n",
    "    tokenized_docs.append(tokens)"
   ]
  },
  {
   "cell_type": "code",
   "execution_count": 52,
   "metadata": {},
   "outputs": [],
   "source": [
    "from gensim.models.phrases import Phraser, Phrases"
   ]
  },
  {
   "cell_type": "code",
   "execution_count": 53,
   "metadata": {},
   "outputs": [],
   "source": [
    "from nlp_tools import GensimNGrammer"
   ]
  },
  {
   "cell_type": "code",
   "execution_count": 62,
   "metadata": {},
   "outputs": [],
   "source": [
    "ngrammer = GensimNGrammer(**{'min_count': 200})"
   ]
  },
  {
   "cell_type": "code",
   "execution_count": 63,
   "metadata": {},
   "outputs": [],
   "source": [
    "trigram_tokenized_docs = ngrammer.fit_transform(tokenized_docs)"
   ]
  },
  {
   "cell_type": "code",
   "execution_count": 65,
   "metadata": {},
   "outputs": [],
   "source": [
    "rwjf_grants['about_tokenized'] = trigram_tokenized_docs"
   ]
  },
  {
   "cell_type": "code",
   "execution_count": 66,
   "metadata": {},
   "outputs": [],
   "source": [
    "rwjf_grants.to_csv('../data/processed/rwjf_grants_05_18_2018.csv', index=False)"
   ]
  }
 ],
 "metadata": {
  "kernelspec": {
   "display_name": "Python 3",
   "language": "python",
   "name": "python3"
  },
  "language_info": {
   "codemirror_mode": {
    "name": "ipython",
    "version": 3
   },
   "file_extension": ".py",
   "mimetype": "text/x-python",
   "name": "python",
   "nbconvert_exporter": "python",
   "pygments_lexer": "ipython3",
   "version": "3.6.4"
  }
 },
 "nbformat": 4,
 "nbformat_minor": 2
}
